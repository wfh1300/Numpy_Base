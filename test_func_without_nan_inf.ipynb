{
 "cells": [
  {
   "cell_type": "code",
   "execution_count": 1,
   "metadata": {},
   "outputs": [],
   "source": [
    "import unittest\n",
    "from np_base_func import *\n",
    "import numpy as np\n",
    "import pandas as pd\n",
    "import numpy.testing as npt"
   ]
  },
  {
   "cell_type": "code",
   "execution_count": 2,
   "metadata": {},
   "outputs": [],
   "source": [
    "from tqdm import tqdm"
   ]
  },
  {
   "cell_type": "code",
   "execution_count": 3,
   "metadata": {},
   "outputs": [],
   "source": [
    "df = pd.read_csv(\"./test/WindPrices.adjclose.csv\")\n",
    "df = df.set_index(\"TrdDate\")\n",
    "df.index = pd.to_datetime(df.index.astype('str'))"
   ]
  },
  {
   "cell_type": "code",
   "execution_count": 4,
   "metadata": {},
   "outputs": [],
   "source": [
    "#nan_columns = df.columns[df.isna().all()]\n",
    "#df = df.drop(columns=nan_columns)"
   ]
  },
  {
   "cell_type": "code",
   "execution_count": 5,
   "metadata": {},
   "outputs": [],
   "source": [
    "#numpy test的stack overflow\n",
    "# https://stackoverflow.com/questions/3302949/best-way-to-assert-for-numpy-array-equality"
   ]
  },
  {
   "cell_type": "code",
   "execution_count": 6,
   "metadata": {},
   "outputs": [],
   "source": [
    "df_0_na = df.fillna(0)"
   ]
  },
  {
   "cell_type": "code",
   "execution_count": 7,
   "metadata": {},
   "outputs": [],
   "source": [
    "def test_equal1(func1, func2, df_0_na):\n",
    "    for i in range(100):\n",
    "        code_index = np.random.randint(0, len(df_0_na.columns))\n",
    "        code = df_0_na.columns[code_index]\n",
    "        print(\"testing: \", code)\n",
    "        npt.assert_array_almost_equal(func1(df_0_na[code]), func2(df_0_na[code]))\n",
    "\n",
    "def test_equal2(func1, func2, df_0_na):\n",
    "    for i in range(100):\n",
    "        code_index = np.random.randint(0, len(df_0_na.columns))\n",
    "        code = df_0_na.columns[code_index]\n",
    "        window = np.random.randint(len(df_0_na))\n",
    "        try:\n",
    "            npt.assert_array_almost_equal(func1(df_0_na[code], window), func2(df_0_na[code], window), decimal=5)\n",
    "        except:\n",
    "            print(code, window)\n",
    "\n",
    "def test_equal3(func1, func2, df_0_na):\n",
    "    for i in range(100):\n",
    "        code_index1 = np.random.randint(0, len(df_0_na.columns))\n",
    "        code_index2 = np.random.randint(0, len(df_0_na.columns))\n",
    "        code1 = df_0_na.columns[code_index1]\n",
    "        code2 = df_0_na.columns[code_index2]\n",
    "        window = np.random.randint(len(df_0_na))\n",
    "        x1 = func1(df_0_na[code1], df_0_na[code2], window)\n",
    "        x2 = func2(df_0_na[code1], df_0_na[code2], window)\n",
    "        \n",
    "        #npt.assert_array_almost_equal(x1, x2)\n",
    "        npt.assert_array_almost_equal(x1, x2, decimal=5)"
   ]
  },
  {
   "cell_type": "code",
   "execution_count": 8,
   "metadata": {},
   "outputs": [],
   "source": [
    "#pandas 版本的结论\n",
    "# region Auxiliary functions\n",
    "  \n",
    "import numpy as np\n",
    "import pandas as pd\n",
    "from numpy import abs\n",
    "from numpy import log\n",
    "from numpy import sign\n",
    "from scipy.stats import rankdata\n",
    "def pd_ts_sum(df, window=10):\n",
    "    \"\"\"\n",
    "    Wrapper function to estimate rolling sum.\n",
    "    :param df: a pandas DataFrame.\n",
    "    :param window: the rolling window.\n",
    "    :return: a pandas DataFrame with the time-series min over the past 'window' days.\n",
    "    \"\"\"\n",
    "    \n",
    "    return df.rolling(window).sum()\n",
    "\n",
    "def pd_sma(df, window=10):\n",
    "    \"\"\"\n",
    "    Wrapper function to estimate SMA.\n",
    "    :param df: a pandas DataFrame.\n",
    "    :param window: the rolling window.\n",
    "    :return: a pandas DataFrame with the time-series min over the past 'window' days.\n",
    "    \"\"\"\n",
    "    return df.rolling(window).mean()\n",
    "\n",
    "def pd_stddev(df, window=10):\n",
    "    \"\"\"\n",
    "    Wrapper function to estimate rolling standard deviation.\n",
    "    :param df: a pandas DataFrame.\n",
    "    :param window: the rolling window.\n",
    "    :return: a pandas DataFrame with the time-series min over the past 'window' days.\n",
    "    \"\"\"\n",
    "    return df.rolling(window).std()\n",
    "\n",
    "def pd_correlation(x, y, window=10):\n",
    "    \"\"\"\n",
    "    Wrapper function to estimate rolling corelations.\n",
    "    :param df: a pandas DataFrame.\n",
    "    :param window: the rolling window.\n",
    "    :return: a pandas DataFrame with the time-series min over the past 'window' days.\n",
    "    \"\"\"\n",
    "    return x.rolling(window).corr(y)\n",
    "\n",
    "def pd_covariance(x, y, window=10):\n",
    "    \"\"\"\n",
    "    Wrapper function to estimate rolling covariance.\n",
    "    :param df: a pandas DataFrame.\n",
    "    :param window: the rolling window.\n",
    "    :return: a pandas DataFrame with the time-series min over the past 'window' days.\n",
    "    \"\"\"\n",
    "    return x.rolling(window).cov(y)\n",
    "\n",
    "def pd_rolling_rank(na):\n",
    "    \"\"\"\n",
    "    Auxiliary function to be used in pd.rolling_apply\n",
    "    :param na: numpy array.\n",
    "    :return: The rank of the last value in the array.\n",
    "    \"\"\"\n",
    "    return rankdata(na)[-1]\n",
    "\n",
    "def pd_ts_rank(df, window=10):\n",
    "    \"\"\"\n",
    "    Wrapper function to estimate rolling rank.\n",
    "    :param df: a pandas DataFrame.\n",
    "    :param window: the rolling window.\n",
    "    :return: a pandas DataFrame with the time-series rank over the past window days.\n",
    "    \"\"\"\n",
    "    return df.rolling(window).apply(rolling_rank)\n",
    "\n",
    "def rolling_prod(na):\n",
    "    \"\"\"\n",
    "    Auxiliary function to be used in pd.rolling_apply\n",
    "    :param na: numpy array.\n",
    "    :return: The product of the values in the array.\n",
    "    \"\"\"\n",
    "    return np.prod(na)\n",
    "\n",
    "def pd_product(df, window=10):\n",
    "    \"\"\"\n",
    "    Wrapper function to estimate rolling product.\n",
    "    :param df: a pandas DataFrame.\n",
    "    :param window: the rolling window.\n",
    "    :return: a pandas DataFrame with the time-series product over the past 'window' days.\n",
    "    \"\"\"\n",
    "    return df.rolling(window).apply(rolling_prod)\n",
    "\n",
    "def pd_ts_min(df, window=10): #window内的最小值，ts_argmin 输出的是这个最小值在window的位置\n",
    "    \"\"\"\n",
    "    Wrapper function to estimate rolling min.\n",
    "    :param df: a pandas DataFrame.\n",
    "    :param window: the rolling window.\n",
    "    :return: a pandas DataFrame with the time-series min over the past 'window' days.\n",
    "    \"\"\"\n",
    "    return df.rolling(window).min()\n",
    "\n",
    "def pd_ts_max(df, window=10):\n",
    "    \"\"\"\n",
    "    Wrapper function to estimate rolling min.\n",
    "    :param df: a pandas DataFrame.\n",
    "    :param window: the rolling window.\n",
    "    :return: a pandas DataFrame with the time-series max over the past 'window' days.\n",
    "    \"\"\"\n",
    "    return df.rolling(window).max()\n",
    "\n",
    "def pd_delta(df, period=1):\n",
    "    \"\"\"\n",
    "    Wrapper function to estimate difference.\n",
    "    :param df: a pandas DataFrame.\n",
    "    :param period: the difference grade.\n",
    "    :return: a pandas DataFrame with today’s value minus the value 'period' days ago.\n",
    "    \"\"\"\n",
    "    return df.diff(period)\n",
    "\n",
    "def pd_delay(df, period=1):\n",
    "    \"\"\"\n",
    "    Wrapper function to estimate lag.\n",
    "    :param df: a pandas DataFrame.\n",
    "    :param period: the lag grade.\n",
    "    :return: a pandas DataFrame with lagged time series\n",
    "    \"\"\"\n",
    "    return df.shift(period)\n",
    "\n",
    "def pd_rank(df):\n",
    "    \"\"\"\n",
    "    Cross sectional rank\n",
    "    :param df: a pandas DataFrame.\n",
    "    :return: a pandas DataFrame with rank along columns.\n",
    "    \"\"\"\n",
    "    #return df.rank(axis=1, pct=True)\n",
    "    return df.rank(pct=True)\n",
    "\n",
    "def pd_scale(df, k=1):\n",
    "    \"\"\"\n",
    "    Scaling time serie.\n",
    "    :param df: a pandas DataFrame.\n",
    "    :param k: scaling factor.\n",
    "    :return: a pandas DataFrame rescaled df such that sum(abs(df)) = k\n",
    "    \"\"\"\n",
    "    return df.mul(k).div(np.abs(df).sum())\n",
    "\n",
    "def pd_ts_argmax(df, window=10):\n",
    "    \"\"\"\n",
    "    Wrapper function to estimate which day ts_max(df, window) occurred on\n",
    "    :param df: a pandas DataFrame.\n",
    "    :param window: the rolling window.\n",
    "    :return: well.. that :)\n",
    "    \"\"\"\n",
    "    return df.rolling(window).apply(np.argmax) \n",
    "\n",
    "def pd_ts_argmin(df, window=10):  #window 内最小的元素是window的第几个\n",
    "    \"\"\"\n",
    "    Wrapper function to estimate which day ts_min(df, window) occurred on\n",
    "    :param df: a pandas DataFrame.\n",
    "    :param window: the rolling window.\n",
    "    :return: well.. that :)\n",
    "    \"\"\"\n",
    "    return df.rolling(window).apply(np.argmin)"
   ]
  },
  {
   "cell_type": "code",
   "execution_count": 12,
   "metadata": {},
   "outputs": [],
   "source": [
    "test_equal2(ts_sum, pd_ts_sum, df_0_na)\n",
    "test_equal2(delay, pd_delay, df_0_na)\n",
    "test_equal2(delta, pd_delta, df_0_na)\n",
    "test_equal3(ts_covariance, pd_covariance, df_0_na)"
   ]
  },
  {
   "cell_type": "code",
   "execution_count": 24,
   "metadata": {},
   "outputs": [],
   "source": [
    "def test_correlation(func1, func2, df_0_na):\n",
    "    for i in range(100):\n",
    "        code_index1 = np.random.randint(0, len(df_0_na.columns))\n",
    "        code_index2 = np.random.randint(0, len(df_0_na.columns))\n",
    "        code1 = df_0_na.columns[code_index1]\n",
    "        code2 = df_0_na.columns[code_index2]\n",
    "        window = np.random.randint(len(df_0_na))\n",
    "        x1 = func1(df_0_na[code1], df_0_na[code2], window)\n",
    "        x2 = func2(df_0_na[code1], df_0_na[code2], window)\n",
    "        #对于pandas有些结果会是inf，而numpy我的处理是返回nan，此时不应该认为不对\n",
    "        x1 = np.nan_to_num(x1, nan=np.nan, posinf=np.nan, neginf=np.nan)\n",
    "        x2 = np.nan_to_num(x2, nan=np.nan, posinf=np.nan, neginf=np.nan)\n",
    "        \n",
    "        x1 = np.where(np.abs(x1)<0.000001, np.nan, x1)\n",
    "        x2 = np.where(np.abs(x2)<0.000001, np.nan, x2)\n",
    "        \n",
    "        #npt.assert_array_almost_equal(x1, x2)\n",
    "        \n",
    "        try:\n",
    "            npt.assert_array_almost_equal(x1, \n",
    "                                          x2,\n",
    "                                         decimal=5)\n",
    "        except:\n",
    "            print(code1, code2, window)"
   ]
  },
  {
   "cell_type": "code",
   "execution_count": 25,
   "metadata": {},
   "outputs": [],
   "source": [
    "test_correlation(ts_correlation, pd_correlation, df_0_na)"
   ]
  },
  {
   "cell_type": "code",
   "execution_count": 16,
   "metadata": {},
   "outputs": [],
   "source": [
    "test_equal2(scale, pd_scale, df_0_na)"
   ]
  },
  {
   "cell_type": "code",
   "execution_count": 17,
   "metadata": {},
   "outputs": [],
   "source": [
    "test_equal2(ts_sma, pd_sma, df_0_na)"
   ]
  },
  {
   "cell_type": "code",
   "execution_count": 27,
   "metadata": {},
   "outputs": [],
   "source": [
    "test_equal2(ts_stddev, pd_stddev, df_0_na)"
   ]
  },
  {
   "cell_type": "code",
   "execution_count": null,
   "metadata": {},
   "outputs": [],
   "source": [
    "def test_ts_product():\n",
    "    #当window超过一定数值的时候，会发生溢出。所以应该增加这部分检验。\n",
    "    pass"
   ]
  },
  {
   "cell_type": "code",
   "execution_count": 49,
   "metadata": {},
   "outputs": [],
   "source": [
    "test_equal2(ts_min, pd_ts_min, df_0_na)"
   ]
  },
  {
   "cell_type": "code",
   "execution_count": 50,
   "metadata": {},
   "outputs": [],
   "source": [
    "test_equal2(ts_max, pd_ts_max, df_0_na)"
   ]
  },
  {
   "cell_type": "code",
   "execution_count": 55,
   "metadata": {},
   "outputs": [],
   "source": [
    "test_equal2(ts_argmin, pd_ts_argmin, df_0_na)"
   ]
  },
  {
   "cell_type": "code",
   "execution_count": 11,
   "metadata": {},
   "outputs": [],
   "source": [
    "test_equal2(ts_argmax, pd_ts_argmax, df_0_na)"
   ]
  },
  {
   "cell_type": "code",
   "execution_count": null,
   "metadata": {},
   "outputs": [],
   "source": []
  }
 ],
 "metadata": {
  "kernelspec": {
   "display_name": "Python 3",
   "language": "python",
   "name": "python3"
  },
  "language_info": {
   "codemirror_mode": {
    "name": "ipython",
    "version": 3
   },
   "file_extension": ".py",
   "mimetype": "text/x-python",
   "name": "python",
   "nbconvert_exporter": "python",
   "pygments_lexer": "ipython3",
   "version": "3.8.3"
  }
 },
 "nbformat": 4,
 "nbformat_minor": 4
}
